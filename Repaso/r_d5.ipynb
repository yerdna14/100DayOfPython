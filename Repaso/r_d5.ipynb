{
 "cells": [
  {
   "cell_type": "markdown",
   "id": "a338ee94-bc37-47fa-a225-4fa66ba231b2",
   "metadata": {},
   "source": [
    "# Clases y Objetos"
   ]
  },
  {
   "cell_type": "markdown",
   "id": "44b66309-9857-48b7-aa34-0394f2e3c48e",
   "metadata": {},
   "source": [
    "1. Define la clase Car con atributos marca(make), modelo(model) y año(year). Crear un objeto y imprime todas sus caracteristicas."
   ]
  },
  {
   "cell_type": "code",
   "execution_count": 1,
   "id": "2aca3c6d-eb81-4eb7-bfca-96b7db86a352",
   "metadata": {
    "tags": []
   },
   "outputs": [
    {
     "name": "stdout",
     "output_type": "stream",
     "text": [
      "car make ::  Honda\n",
      "car model ::  Civic\n",
      "car year ::  2019\n"
     ]
    }
   ],
   "source": [
    "class Car:\n",
    "    # definir el metodo contructor en python.\n",
    "    def __init__(self,make,model,year):\n",
    "        self.make = make\n",
    "        self.model = model\n",
    "        self.year = year\n",
    "\n",
    "# creando un objeto para la clase car\n",
    "\n",
    "car1 = Car('Honda','Civic',2019)\n",
    "\n",
    "# Imprimir todos los atributos\n",
    "print(f\"car make :: \",car1.make)\n",
    "print(f\"car model :: \",car1.model)\n",
    "print(f\"car year :: \",car1.year)"
   ]
  },
  {
   "cell_type": "markdown",
   "id": "52e4d070-a9f2-492a-b7f3-71367342e4c5",
   "metadata": {},
   "source": [
    "2. Crear la clase Circulo con el metodo area que calcula y retorna el area del circulo. Crea un objeto y llama al metodod area."
   ]
  },
  {
   "cell_type": "code",
   "execution_count": 2,
   "id": "6ba476e0-5da6-4dd8-a7e0-af1a0029713f",
   "metadata": {
    "tags": []
   },
   "outputs": [
    {
     "name": "stdout",
     "output_type": "stream",
     "text": [
      "area del circulo por el radio r:  50.2656\n"
     ]
    }
   ],
   "source": [
    "# creando la clase Circle\n",
    "class Circle:\n",
    "    # creando el metodo area\n",
    "    def area(self,r):\n",
    "        pi = 3.1416\n",
    "        return pi*(r**2)\n",
    "    \n",
    "circ = Circle()\n",
    "\n",
    "r=4\n",
    "\n",
    "# calcular el area llamando el metodo.\n",
    "area = circ.area(r)\n",
    "print(f\"area del circulo por el radio r: \", area)"
   ]
  },
  {
   "cell_type": "markdown",
   "id": "973f16c2-c419-40de-8528-97480189039a",
   "metadata": {},
   "source": [
    "3. Define la clase Estudiante con los atributos nombre y edad. Crea el metodo print_details() que imprime el nombre y la edad de cada estudiante."
   ]
  },
  {
   "cell_type": "code",
   "execution_count": 3,
   "id": "76e2fcd4-63d3-4eaf-83ba-f8695986628b",
   "metadata": {
    "tags": []
   },
   "outputs": [],
   "source": [
    "class Estudiante:\n",
    "    def __init__(self,nombre,edad):\n",
    "        self.nombre = nombre\n",
    "        self.edad = edad\n",
    "        \n",
    "    def print_details(self):\n",
    "        print('El nombre de la(el) estudiante es:',self.nombre)\n",
    "        print('La edad de la(e) estudante es:', self.edad)"
   ]
  },
  {
   "cell_type": "code",
   "execution_count": 4,
   "id": "5abf17c2-c1a3-4d4a-b2dc-038d79bf72ae",
   "metadata": {
    "tags": []
   },
   "outputs": [],
   "source": [
    "estu1 = Estudiante(nombre='Esteban R', edad = 30)"
   ]
  },
  {
   "cell_type": "code",
   "execution_count": 5,
   "id": "2508bcb3-771e-4f50-b77d-441abc757f6c",
   "metadata": {
    "tags": []
   },
   "outputs": [
    {
     "name": "stdout",
     "output_type": "stream",
     "text": [
      "El nombre de la(el) estudiante es: Esteban R\n",
      "La edad de la(e) estudante es: 30\n"
     ]
    }
   ],
   "source": [
    "estu1.print_details()"
   ]
  },
  {
   "cell_type": "markdown",
   "id": "682c9b69-ae4b-48f1-83f9-53f2edd8f732",
   "metadata": {},
   "source": [
    "4. Crear la clase vehiculo con atributos marca, modelo y año. Implementar el metodo display_info() para imprimir los detalles del vehiculo."
   ]
  },
  {
   "cell_type": "code",
   "execution_count": 6,
   "id": "df066d09-74ca-4e2b-98d7-ce1bc6015a34",
   "metadata": {
    "tags": []
   },
   "outputs": [],
   "source": [
    "class Vehiculo:\n",
    "    \n",
    "    def __init__(self,marca,modelo,año):\n",
    "        self.marca = marca\n",
    "        self.modelo = modelo\n",
    "        self.año = año\n",
    "        \n",
    "    def display_info(self):\n",
    "        print(f'{self.marca}::{self.modelo}::{self.año}')"
   ]
  },
  {
   "cell_type": "code",
   "execution_count": 7,
   "id": "25cc1843-f606-4586-be02-76d1ea64a017",
   "metadata": {
    "tags": []
   },
   "outputs": [],
   "source": [
    "car1 = Vehiculo('Honda','Civic','2014')"
   ]
  },
  {
   "cell_type": "code",
   "execution_count": 8,
   "id": "b696508e-bdc3-4e5b-87fa-fb5c8f5dfe00",
   "metadata": {
    "tags": []
   },
   "outputs": [
    {
     "name": "stdout",
     "output_type": "stream",
     "text": [
      "Honda::Civic::2014\n"
     ]
    }
   ],
   "source": [
    "car1.display_info()"
   ]
  },
  {
   "cell_type": "markdown",
   "id": "74e70262-593f-48e6-9713-856cf9427f9b",
   "metadata": {},
   "source": [
    "5. Define una subclase Car inherente de Vehiculo y añande el atributo t_combustible. Sobreescribe el metodo display_info()  para incluir el tipo de combustible."
   ]
  },
  {
   "cell_type": "code",
   "execution_count": 9,
   "id": "99919fff-0e7a-4507-bc74-ccbad1aa916b",
   "metadata": {
    "tags": []
   },
   "outputs": [],
   "source": [
    "# crear car subclase e inherente de la clase Vehiculo\n",
    "class Car (Vehiculo):\n",
    "    def __init__(self,marca,modelo,año,t_combustible):\n",
    "        super().__init__(marca,modelo,año)\n",
    "        self.t_combustible = t_combustible\n",
    "        \n",
    "    def display_info(self):\n",
    "        print(f'{self.marca}::{self.modelo}::{self.año}::{self.t_combustible}')\n",
    "    \n",
    "car2 = Car('Honda','Civic','2014','petrol')\n",
    "    "
   ]
  },
  {
   "cell_type": "code",
   "execution_count": 10,
   "id": "b7d36145-7d8d-4c32-84bd-ce216925b8f6",
   "metadata": {
    "tags": []
   },
   "outputs": [
    {
     "name": "stdout",
     "output_type": "stream",
     "text": [
      "Honda::Civic::2014::petrol\n"
     ]
    }
   ],
   "source": [
    "car2.display_info()"
   ]
  },
  {
   "cell_type": "markdown",
   "id": "921ea141-dfc7-49e0-99b7-868a8ad8a994",
   "metadata": {},
   "source": [
    "6. Implementa otra subclase Bike que es inherente de Vehiculo y añade un atributo cap_ing. Y sobre escribe el metodo display_info()  para incluir la cpacidad ingenieril."
   ]
  },
  {
   "cell_type": "code",
   "execution_count": 14,
   "id": "a756bfdf-7c18-4b88-a215-1665dc0b49ec",
   "metadata": {
    "tags": []
   },
   "outputs": [],
   "source": [
    "class Bike(Vehiculo):\n",
    "    def __init__(self,marca,modelo,año,cap_ing):\n",
    "        self.cap_ing = cap_ing\n",
    "        super().__init__(marca,modelo,año)\n",
    "        \n",
    "    def display_info(self):\n",
    "        print(f'{self.marca}::{self.modelo}::{self.año}::{self.cap_ing}')\n",
    "\n",
    "car3 = Bike('avenger','bajaj','2017','240')"
   ]
  },
  {
   "cell_type": "code",
   "execution_count": 15,
   "id": "f592b509-84b2-4692-a5ce-9dadc8ed922e",
   "metadata": {
    "tags": []
   },
   "outputs": [
    {
     "name": "stdout",
     "output_type": "stream",
     "text": [
      "avenger::bajaj::2017::240\n"
     ]
    }
   ],
   "source": [
    "car3.display_info()"
   ]
  },
  {
   "cell_type": "code",
   "execution_count": null,
   "id": "3bd405b5-a642-4ec3-9528-568420bc078d",
   "metadata": {},
   "outputs": [],
   "source": []
  }
 ],
 "metadata": {
  "kernelspec": {
   "display_name": "Python 3 (ipykernel)",
   "language": "python",
   "name": "python3"
  },
  "language_info": {
   "codemirror_mode": {
    "name": "ipython",
    "version": 3
   },
   "file_extension": ".py",
   "mimetype": "text/x-python",
   "name": "python",
   "nbconvert_exporter": "python",
   "pygments_lexer": "ipython3",
   "version": "3.12.2"
  }
 },
 "nbformat": 4,
 "nbformat_minor": 5
}
